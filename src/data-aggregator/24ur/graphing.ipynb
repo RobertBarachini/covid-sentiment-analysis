{
 "cells": [
  {
   "cell_type": "code",
   "execution_count": null,
   "metadata": {},
   "outputs": [],
   "source": [
    "import os\n",
    "import pandas as pd\n",
    "import seaborn as sns\n",
    "import pandas_profiling as pp\n",
    "import matplotlib.pyplot as plt\n",
    "import random\n",
    "from pathlib import Path\n",
    "from scipy.optimize import curve_fit\n",
    "from datetime import datetime\n",
    "import numpy as np\n",
    "\n",
    "script_dir = Path.cwd()\n",
    "processed_json_dir = os.path.join(*[script_dir, \"processed/json\"])\n",
    "processed_csv_dir = os.path.join(*[script_dir, \"processed\", \"csv\"])\n",
    "processed_stats_dir = os.path.join(*[script_dir, \"processed/stats\"])\n",
    "processed_plots_dir = os.path.join(*[script_dir, \"processed/plots\"])"
   ]
  },
  {
   "cell_type": "code",
   "execution_count": null,
   "metadata": {},
   "outputs": [],
   "source": [
    "# Load comments.csv from processed/csv\n",
    "comments_csv = os.path.join(*[processed_csv_dir, \"comments.csv\"])\n",
    "# print(comments_csv)\n",
    "comments_df = pd.read_csv(comments_csv, encoding=\"utf-8\", delimiter=\";\", on_bad_lines=\"skip\")"
   ]
  },
  {
   "cell_type": "code",
   "execution_count": null,
   "metadata": {},
   "outputs": [],
   "source": [
    "# Print head of comments dataframe\n",
    "print(comments_df.head())"
   ]
  },
  {
   "cell_type": "code",
   "execution_count": null,
   "metadata": {},
   "outputs": [],
   "source": [
    "# Print a summary of the comments dataframe\n",
    "comments_df.info()"
   ]
  },
  {
   "cell_type": "code",
   "execution_count": null,
   "metadata": {},
   "outputs": [],
   "source": [
    "# Remove rows where both sentiment_posaitive_count and sentiment_negative_count are 0 and their sum is lower than 5\n",
    "comments_df = comments_df[(comments_df[\"sentiment_positive_count\"] != 0) | (comments_df[\"sentiment_negative_count\"] != 0)]\n",
    "comments_df = comments_df[(comments_df[\"sentiment_positive_count\"] + comments_df[\"sentiment_negative_count\"]) > 5]\n",
    "comments_df.info()"
   ]
  },
  {
   "cell_type": "code",
   "execution_count": null,
   "metadata": {},
   "outputs": [],
   "source": [
    "# Transform column date to datetime with form \"%Y-%m-%d_%H-%M\"\n",
    "comments_df[\"date\"] = comments_df[\"date\"].apply(lambda x: datetime.strptime(x, \"%Y-%m-%d_%H-%M\"))\n",
    "comments_df.info()"
   ]
  },
  {
   "cell_type": "code",
   "execution_count": null,
   "metadata": {},
   "outputs": [],
   "source": [
    "# # Add column date_day where it is taken from date column and formatted as YYYY-MM-DD string\n",
    "# comments_df[\"date_day\"] = comments_df[\"date\"].apply(lambda x: x.strftime(\"%Y-%m-%d\"))\n",
    "# Add column date_day where it is taken from date column and formatted as YYYY-MM-DD datetime object\n",
    "comments_df[\"date_day\"] = comments_df[\"date\"].apply(lambda x: datetime.strptime(x.strftime(\"%Y-%m-%d\"), \"%Y-%m-%d\"))\n",
    "comments_df.info()"
   ]
  },
  {
   "cell_type": "code",
   "execution_count": null,
   "metadata": {},
   "outputs": [],
   "source": [
    "\n",
    "# Add column date_sentiment where it is calculated as mean of sentiment grouped by date_day\n",
    "comments_df[\"date_sentiment\"] = comments_df.groupby(\"date_day\")[\"sentiment\"].transform(\"mean\")\n",
    "comments_df.info()"
   ]
  },
  {
   "cell_type": "code",
   "execution_count": null,
   "metadata": {},
   "outputs": [],
   "source": [
    "# Aggregate comments by date_day column\n",
    "# comments_df_agg = comments_df.groupby(\"date_day\").agg(\n",
    "# \t{\"sentiment\": [\"mean\", \"count\"], \"sentiment_positive_count\": [\"mean\", \"count\"], \"sentiment_negative_count\": [\"mean\", \"count\"], \"sentiment_word_count\": [\"mean\", \"count\"]}\n",
    "# )\n",
    "comments_df_agg = comments_df.groupby(\"date_day\").agg(\n",
    "\t{\"sentiment\": \"mean\", \"sentiment_positive_count\": \"mean\", \"sentiment_negative_count\": \"mean\", \"sentiment_word_count\": \"mean\"}\n",
    ")\n",
    "# Add back date_day column\n",
    "comments_df_agg.reset_index(inplace=True)\n",
    "comments_df_agg.info()\n",
    "print(comments_df_agg.head())"
   ]
  },
  {
   "cell_type": "code",
   "execution_count": null,
   "metadata": {},
   "outputs": [],
   "source": [
    "# # Add column date_year where it is taken from date column as YYYY datetime object\n",
    "# comments_df_agg[\"date_year\"] = comments_df_agg[\"date_day\"].apply(lambda x: datetime.strptime(x.strftime(\"%Y\"), \"%Y\"))\n",
    "# # Add column date_month where it is taken from date column as YYYY-MM datetime object\n",
    "# comments_df_agg[\"date_month\"] = comments_df_agg[\"date_day\"].apply(lambda x: datetime.strptime(x.strftime(\"%Y-%m\"), \"%Y-%m\"))\n",
    "# Add column date_year where it is taken from date column as YYYY datetime string\n",
    "comments_df_agg[\"date_year\"] = comments_df_agg[\"date_day\"].apply(lambda x: x.strftime(\"%Y\"))\n",
    "# Add column date_month where it is taken from date column as YYYY-MM datetime string\n",
    "comments_df_agg[\"date_month\"] = comments_df_agg[\"date_day\"].apply(lambda x: x.strftime(\"%Y-%m\"))\n",
    "# Add a column year_day where it is taken from date column and formatted as day of year string\n",
    "comments_df_agg[\"year_day\"] = comments_df_agg[\"date_day\"].apply(lambda x: x.strftime(\"2000-%j\"))\n",
    "# Convert year_day column to datetime object\n",
    "comments_df_agg[\"year_day\"] = comments_df_agg[\"year_day\"].apply(lambda x: datetime.strptime(x, \"%Y-%j\"))\n",
    "comments_df_agg.info()\n",
    "print(comments_df_agg.head())"
   ]
  },
  {
   "cell_type": "code",
   "execution_count": null,
   "metadata": {},
   "outputs": [],
   "source": [
    "# Split comments_df_agg into a list of dataframes where each dataframe is a year\n",
    "comments_df_agg_list = [comments_df_agg[comments_df_agg[\"date_year\"] == year] for year in comments_df_agg[\"date_year\"].unique()]\n",
    "print(f\"Number of years: {len(comments_df_agg_list)}\")\n",
    "print(f\"Dataframes: {comments_df_agg_list}\")"
   ]
  },
  {
   "cell_type": "code",
   "execution_count": null,
   "metadata": {},
   "outputs": [],
   "source": []
  },
  {
   "cell_type": "code",
   "execution_count": null,
   "metadata": {},
   "outputs": [],
   "source": [
    "key_points = {\n",
    "\t\"PKP-1\": \"2020-03-29\",\n",
    "\t\"PKP-2\": \"2020-04-22\",\n",
    "\t\"PKP-3\": \"2020-05-19\",\n",
    "\t\"PKP-4\": \"2020-06-28\",\n",
    "\t\"PKP-5\": \"2020-09-23\",\n",
    "\t\"PKP-6\": \"2020-11-10\",\n",
    "\t\"PKP-7\": \"2020-12-19\",\n",
    "\t\"PKP-8\": \"2021-01-25\",\n",
    "\t\"PKP-9\": \"2021-07-14\",\n",
    "\t\"Razglasitev epidemije\": \"2020-03-12\",\n",
    "\t\"Preklic epidemije\": \"2020-05-31\",\n",
    "\t\"Raglasitev epidemije 2\": \"2020-10-18\",\n",
    "\t\"Hitri antigenski testi\": \"2020-12-22\",\n",
    "\t\"Začetek cepljenja\": \"2020-12-27\",\n",
    "\t\"Lockdown 3. val (začetek)\": \"2021-4-1\",\n",
    "\t\"Lockdown 3. val (konec)\": \"2021-4-11\",\n",
    "\t\"Povratek v oranžno fazo\": \"2021-4-21\",\n",
    "\t\"Povratek v rumeno fazo\": \"2021-5-12\",\n",
    "\t\"Preklic epidemije 2\": \"2021-5-14\",\n",
    "\t\"Uvedba evropskega zdravstvenega potrdila\": \"2021-6-5\",\n",
    "\t\"Obvezni osebni dokument ob PCT potrdilu\": \"2021-11-8\",\n",
    "\t\"Obvezno testiranje za necepljene (3x tedensko)\": \"2021-11-15\"\n",
    "}"
   ]
  },
  {
   "cell_type": "code",
   "execution_count": null,
   "metadata": {},
   "outputs": [],
   "source": [
    "\n",
    "fig_width = 40 # 40\n",
    "fig_height = 12 # 6\n",
    "window_size = 30 # 7 # 30\n",
    "\n",
    "# Superimpose all years over matplotlib figure\n",
    "fig, ax = plt.subplots(figsize=(fig_width, fig_height))\n",
    "# Create a list of matplotlib colors\n",
    "colors = [\"#1f77b4\", \"#ff7f0e\", \"#2ca02c\", \"#d62728\", \"#9467bd\", \"#8c564b\", \"#e377c2\", \"#7f7f7f\", \"#bcbd22\", \"#17becf\"]\n",
    "for i, comments_df_agg_year in enumerate(comments_df_agg_list):\n",
    "\t# Using savitzky-golay filter to smooth the plot\n",
    "\tax.plot(comments_df_agg_year[\"year_day\"], comments_df_agg_year[\"sentiment\"],  linestyle=\"--\", color=colors[i], label=comments_df_agg_year[\"date_year\"].unique()[0], alpha=0.5)\n",
    "\tax.plot(comments_df_agg_year[\"year_day\"], comments_df_agg_year[\"sentiment\"].rolling(window=window_size, center=True).mean(), color=colors[i], alpha=1)\n",
    "\n",
    "# Draw key points as vertical lines\n",
    "for key, value in key_points.items():\n",
    "\t# Set all value years to 2000\n",
    "\tv = datetime.strptime(value, \"%Y-%m-%d\")\n",
    "\tv_plot = v.replace(year=2000)\n",
    "\tcol = colors[v.year - 2019]\n",
    "\t# ax.axvline(x=v_plot, color=col, linestyle=\"--\", label=key)\n",
    "\tax.axvline(x=v_plot, color=col, label=key)\n",
    "\t# Add vertical text to key points and center to top of the plot\n",
    "\tax.text(v_plot, 0.125, f\"{key} ({value})\", rotation=90, color=col, ha=\"right\", va=\"top\", fontsize=12)\n",
    "\t# ax.text(v_plot, 0.5, key, rotation=90, color=col, fontsize=8)\n",
    "\n",
    "# Use month of year as x-axis\n",
    "ax.xaxis.set_major_formatter(plt.FuncFormatter(lambda x, pos: datetime.strftime(datetime.fromordinal(int(x)), \"%b\")))\n",
    "# Set title to Comments mean sentiment (years superimposed)\n",
    "ax.set_title(f\"Comments mean sentiment (years superimposed - window size: {window_size})\")\n",
    "ax.legend()\n",
    "\n",
    "# Create path processed_plots_dir if it does not exist\n",
    "if not os.path.exists(processed_plots_dir):\n",
    "\tos.makedirs(processed_plots_dir)\n",
    "\n",
    "# Save plot as svg to processed_plots_dir\n",
    "plt.savefig(os.path.join(*[processed_plots_dir, \"comments_sentiment_years_superimposed.svg\"]), format=\"svg\")\n",
    "\n",
    "# Show plot\n",
    "plt.show()\n"
   ]
  },
  {
   "cell_type": "code",
   "execution_count": null,
   "metadata": {},
   "outputs": [],
   "source": [
    "# Save the final dataframe as a csv file to "
   ]
  },
  {
   "cell_type": "code",
   "execution_count": null,
   "metadata": {},
   "outputs": [],
   "source": [
    "# Save the final dataframe as a csv file to processec_csv_dir\n",
    "comments_df_agg.to_csv(os.path.join(*[processed_csv_dir, \"comments_sentiment_years_superimposed.csv\"]), index=False, encoding=\"utf-8\")"
   ]
  }
 ],
 "metadata": {
  "interpreter": {
   "hash": "b3ba2566441a7c06988d0923437866b63cedc61552a5af99d1f4fb67d367b25f"
  },
  "kernelspec": {
   "display_name": "Python 3.7.6 64-bit ('base': conda)",
   "language": "python",
   "name": "python3"
  },
  "language_info": {
   "codemirror_mode": {
    "name": "ipython",
    "version": 3
   },
   "file_extension": ".py",
   "mimetype": "text/x-python",
   "name": "python",
   "nbconvert_exporter": "python",
   "pygments_lexer": "ipython3",
   "version": "3.7.11"
  },
  "orig_nbformat": 4
 },
 "nbformat": 4,
 "nbformat_minor": 2
}
